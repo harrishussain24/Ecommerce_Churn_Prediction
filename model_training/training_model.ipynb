{
 "cells": [
  {
   "cell_type": "code",
   "execution_count": null,
   "id": "d07cf461-6e4b-4e12-8971-a5d2051a6116",
   "metadata": {},
   "outputs": [],
   "source": [
    "import matplotlib.pyplot as plt\n",
    "import pandas as pd\n",
    "import seaborn as sns"
   ]
  },
  {
   "cell_type": "code",
   "execution_count": null,
   "id": "840d3e65-5f82-4b49-b75f-c2551effe6ba",
   "metadata": {},
   "outputs": [],
   "source": [
    "filepath = \"your dataset path...!\"\n",
    "df = pd.read_csv(filepath)\n",
    "print(df.head())"
   ]
  },
  {
   "cell_type": "code",
   "execution_count": null,
   "id": "25d14d00-f1c7-43eb-9100-7f50debb1621",
   "metadata": {},
   "outputs": [],
   "source": [
    "from sklearn.linear_model import LogisticRegression\n",
    "from sklearn.metrics import accuracy_score, precision_score, recall_score, f1_score"
   ]
  },
  {
   "cell_type": "code",
   "execution_count": null,
   "id": "e202bff9-195b-4823-8f1f-f6d33690b00c",
   "metadata": {},
   "outputs": [],
   "source": [
    "#Converting Categorical variables to numeric\n",
    "df[\"ContractType\"]=df[\"ContractType\"].map({\"Monthly\": 0, \"Yearly\": 1})\n",
    "df[\"HasPremiumSupport\"]=df[\"HasPremiumSupport\"].map({\"No\": 0, \"Yes\": 1})\n",
    "\n",
    "#Verifying Changes\n",
    "print(df.head())"
   ]
  },
  {
   "cell_type": "code",
   "execution_count": null,
   "id": "74be70c9-0bd8-4ea6-b851-d763c7065971",
   "metadata": {},
   "outputs": [],
   "source": [
    "from scipy.stats import zscore\n",
    "\n",
    "#Scaling Numerical Columns\n",
    "df[\"SubscriptionLength\"]= zscore(df[\"SubscriptionLength\"])\n",
    "df[\"MonthlySpending\"]= zscore(df[\"MonthlySpending\"])\n",
    "df[\"TotalSpent\"]= zscore(df[\"TotalSpent\"])\n",
    "\n",
    "#Checking Results\n",
    "print(df.describe())"
   ]
  },
  {
   "cell_type": "code",
   "execution_count": null,
   "id": "e68f2ee9-e349-4aa1-a140-ca785718e555",
   "metadata": {},
   "outputs": [],
   "source": [
    "from sklearn.model_selection import train_test_split\n",
    "\n",
    "#Defining features X and target\n",
    "X= df.drop(columns=[\"CustomerID\", \"Churn\"])\n",
    "y= df[\"Churn\"]\n",
    "\n",
    "X_train, X_test, y_train, y_test = train_test_split(X, y, test_size=0.2, random_state=42)\n",
    "\n",
    "#Verifying Split Sizes\n",
    "print(\"Training Data :\", X_train.shape)\n",
    "print(\"Testing Data :\", X_test.shape)"
   ]
  },
  {
   "cell_type": "code",
   "execution_count": null,
   "id": "c3ce0a64-ffc4-40a7-9da9-209faad2ec0f",
   "metadata": {},
   "outputs": [],
   "source": [
    "#Training Logitic Regression Model\n",
    "log_model= LogisticRegression()\n",
    "log_model.fit(X_train, y_train)\n",
    "\n",
    "#Making Predicitons\n",
    "y_pred_log= log_model.predict(X_test)\n",
    "\n",
    "#Evaluating Performance\n",
    "log_accuracy= accuracy_score(y_test, y_pred_log)\n",
    "log_precision= precision_score(y_test, y_pred_log)\n",
    "log_recall= recall_score(y_test, y_pred_log)\n",
    "log_f1= f1_score(y_test, y_pred_log)\n",
    "\n",
    "#Printing Metrics\n",
    "print(\"Logistic Regression Result :\")\n",
    "print(f\"Accuracy: {log_accuracy: .2f}\")\n",
    "print(f\"Precision: {log_precision: .2f}\")\n",
    "print(f\"Recall: {log_recall: .2f}\")\n",
    "print(f\"F1 Score: {log_f1: .2f}\")"
   ]
  },
  {
   "cell_type": "code",
   "execution_count": null,
   "id": "bebec69c-ddc0-4926-8256-8ac8f2e8f6b5",
   "metadata": {},
   "outputs": [],
   "source": [
    "from sklearn.ensemble import RandomForestClassifier\n",
    "\n",
    "#Training Random Forest Model\n",
    "rf_model= RandomForestClassifier(n_estimators=100, random_state=42)\n",
    "rf_model.fit(X_train, y_train)\n",
    "\n",
    "#Making Predicitons\n",
    "y_pred_rf= rf_model.predict(X_test)\n",
    "\n",
    "#Evaluating Performance\n",
    "rf_accuracy= accuracy_score(y_test, y_pred_rf)\n",
    "rf_precision= precision_score(y_test, y_pred_rf)\n",
    "rf_recall= recall_score(y_test, y_pred_rf)\n",
    "rf_f1= f1_score(y_test, y_pred_rf)\n",
    "\n",
    "#Printing Metrics\n",
    "print(\"Logistic Regression Result :\")\n",
    "print(f\"Accuracy: {rf_accuracy: .2f}\")\n",
    "print(f\"Precision: {rf_precision: .2f}\")\n",
    "print(f\"Recall: {rf_recall: .2f}\")\n",
    "print(f\"F1 Score: {rf_f1: .2f}\")"
   ]
  },
  {
   "cell_type": "code",
   "execution_count": null,
   "id": "9952ce10-59b9-4a8e-b2b0-9504c440308e",
   "metadata": {},
   "outputs": [],
   "source": [
    "#Getting feature importance from Logistic Regression Model\n",
    "log_coeffs= pd.DataFrame({\"Feature\": X_train.columns, \"Importance\": log_model.coef_[0]})\n",
    "log_coeffs= log_coeffs.sort_values(by=\"Importance\", ascending=False)\n",
    "\n",
    "#Displaying feature importance\n",
    "print(\"Logistic Regression Feature Importance :\")\n",
    "print(log_coeffs)"
   ]
  },
  {
   "cell_type": "code",
   "execution_count": null,
   "id": "f8232446-6d65-4125-ae94-b8fdc57b58d4",
   "metadata": {},
   "outputs": [],
   "source": [
    "#Getting feature importance from Random Forest\n",
    "rf_importance= pd.DataFrame({\"Feature\": X_train.columns, \"Importance\": rf_model.feature_importances_})\n",
    "rf_importance= rf_importance.sort_values(by=\"Importance\", ascending=False)\n",
    "\n",
    "#Plotting feature Importance\n",
    "plt.figure(figsize=(8, 5))\n",
    "sns.barplot(x=rf_importance[\"Importance\"], y=rf_importance[\"Feature\"], palette=\"coolwarm\", hue=rf_importance[\"Feature\"], legend=False)\n",
    "plt.xlabel(\"Importance Score\")\n",
    "plt.ylabel(\"Feature\")\n",
    "plt.title(\"Random Forest Feature Importance\")\n",
    "plt.savefig(\"importance_score_vs_feature.png\", dpi=300, bbox_inches=\"tight\") # Saves as PNG with high resolution\n",
    "plt.show()"
   ]
  },
  {
   "cell_type": "code",
   "execution_count": null,
   "id": "f1566ee9-592e-4656-9aad-668e8e2d34c3",
   "metadata": {},
   "outputs": [],
   "source": [
    "from sklearn.model_selection import GridSearchCV\n",
    "\n",
    "#Defining hyperParameters to test \n",
    "param_grid= {\n",
    "    \"n_estimators\": [50, 100, 200], #Number of trees\n",
    "    \"max_depth\": [None, 10, 20], #Depth of each tree\n",
    "    \"min_samples_split\": [2, 5, 10], #Minimun Sample Split\n",
    "    \"min_samples_leaf\": [1, 2, 4], #Minimum sample per leaf\n",
    "}\n",
    "#Performing Grid Search\n",
    "grid_search= GridSearchCV(RandomForestClassifier(random_state=42), param_grid, cv=5, n_jobs=-1)\n",
    "grid_search.fit(X_train, y_train)\n",
    "\n",
    "#Best Parameters\n",
    "print(\"Best HyperParameters: \", grid_search.best_params_)"
   ]
  },
  {
   "cell_type": "code",
   "execution_count": null,
   "id": "e292cfeb-8569-46ba-9daa-6d181dcfaeb8",
   "metadata": {},
   "outputs": [],
   "source": [
    "#training model with best parameters\n",
    "best_rf_model= RandomForestClassifier(\n",
    "    n_estimators= grid_search.best_params_[\"n_estimators\"],\n",
    "    max_depth= grid_search.best_params_[\"max_depth\"],\n",
    "    min_samples_split= grid_search.best_params_[\"min_samples_split\"],\n",
    "    min_samples_leaf= grid_search.best_params_[\"min_samples_leaf\"],\n",
    "    random_state=42\n",
    ")\n",
    "\n",
    "best_rf_model.fit(X_train, y_train)\n",
    "y_pred_best_rf= best_rf_model.predict(X_test)"
   ]
  },
  {
   "cell_type": "code",
   "execution_count": null,
   "id": "e7e48097-6592-47e7-8413-7f58c89391e7",
   "metadata": {},
   "outputs": [],
   "source": [
    "#Evaluating Performance\n",
    "rf_accuracy= accuracy_score(y_test, y_pred_best_rf)\n",
    "rf_precision= precision_score(y_test, y_pred_best_rf)\n",
    "rf_recall= recall_score(y_test, y_pred_best_rf)\n",
    "rf_f1= f1_score(y_test, y_pred_best_rf)\n",
    "\n",
    "#Printing Metrics\n",
    "print(\"Logistic Regression Result :\")\n",
    "print(f\"Accuracy: {rf_accuracy: .2f}\")\n",
    "print(f\"Precision: {rf_precision: .2f}\")\n",
    "print(f\"Recall: {rf_recall: .2f}\")\n",
    "print(f\"F1 Score: {rf_f1: .2f}\")"
   ]
  },
  {
   "cell_type": "code",
   "execution_count": null,
   "id": "03a8d66e-dcff-44d9-8831-0eac74a8c4a7",
   "metadata": {},
   "outputs": [],
   "source": [
    "import joblib\n",
    "\n",
    "#saving the trained model \n",
    "joblib.dump(best_rf_model, \"random_forest_churn_model.pkl\")\n",
    "print(\"Model Saved Successfully\")"
   ]
  },
  {
   "cell_type": "code",
   "execution_count": null,
   "id": "25c4e9b7-8c96-443b-945c-e9821219bea9",
   "metadata": {},
   "outputs": [],
   "source": [
    "#loading the savemodel \n",
    "loaded_model= joblib.load(\"random_forest_churn_model.pkl\")\n",
    "\n",
    "# Defining  feature names (same as Dataset)\n",
    "feature_names = [\"SubscriptionLength\", \"MonthlySpending\", \"TotalSpent\", \"ContractType\", \"HasPremiumSupport\"]\n",
    "\n",
    "#Example Data (same format as X_train)\n",
    "new_customer= pd.DataFrame([[24, 80.5, 1932.0, 0, 1]], columns= feature_names)\n",
    "\n",
    "#Predictin Churn\n",
    "prediction= loaded_model.predict(new_customer)\n",
    "\n",
    "print(\"Churn Prediction: \", \"Churned (1)\" if prediction[0] == 1 else \"Active (0)\")"
   ]
  },
  {
   "cell_type": "code",
   "execution_count": null,
   "id": "3dedc2b2-3909-4973-86d2-5b5f896e6284",
   "metadata": {},
   "outputs": [],
   "source": [
    "#Example Data (same format as X_train)\n",
    "new_customer= pd.DataFrame([[48, 80.5, 2932.0, 1, 0]], columns= feature_names)\n",
    "\n",
    "#Predictin Churn\n",
    "prediction= loaded_model.predict(new_customer)\n",
    "\n",
    "print(\"Churn Prediction: \", \"Churned (1)\" if prediction[0] == 1 else \"Active (0)\")"
   ]
  }
 ],
 "metadata": {
  "kernelspec": {
   "display_name": "Python [conda env:base] *",
   "language": "python",
   "name": "conda-base-py"
  },
  "language_info": {
   "codemirror_mode": {
    "name": "ipython",
    "version": 3
   },
   "file_extension": ".py",
   "mimetype": "text/x-python",
   "name": "python",
   "nbconvert_exporter": "python",
   "pygments_lexer": "ipython3",
   "version": "3.12.7"
  }
 },
 "nbformat": 4,
 "nbformat_minor": 5
}
