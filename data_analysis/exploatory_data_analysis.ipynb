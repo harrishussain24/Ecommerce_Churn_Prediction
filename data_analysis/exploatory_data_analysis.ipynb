{
 "cells": [
  {
   "cell_type": "code",
   "execution_count": null,
   "id": "0311185a-359b-4c44-b65b-100c8fc3f105",
   "metadata": {},
   "outputs": [],
   "source": [
    "import matplotlib.pyplot as plt\n",
    "import pandas as pd\n",
    "import seaborn as sns"
   ]
  },
  {
   "cell_type": "code",
   "execution_count": null,
   "id": "4c87c64b-6a7e-439f-90b7-8525f431fcba",
   "metadata": {},
   "outputs": [],
   "source": [
    "filepath = \"your dataset path...!\"\n",
    "df = pd.read_csv(filepath)\n",
    "print(df.head())"
   ]
  },
  {
   "cell_type": "code",
   "execution_count": null,
   "id": "b624bccc-fd0c-4337-9f12-6cb8b10049e9",
   "metadata": {},
   "outputs": [],
   "source": [
    "print(df.dtypes)"
   ]
  },
  {
   "cell_type": "code",
   "execution_count": null,
   "id": "975f5948-f36b-4530-b951-57efb8416c63",
   "metadata": {},
   "outputs": [],
   "source": [
    "print(df.isnull().sum())"
   ]
  },
  {
   "cell_type": "code",
   "execution_count": null,
   "id": "efbba98d-5f1b-4113-8f98-0b7a9045924b",
   "metadata": {},
   "outputs": [],
   "source": [
    "print(df.columns)"
   ]
  },
  {
   "cell_type": "code",
   "execution_count": null,
   "id": "31280184-24e6-4779-a396-ca754b081efe",
   "metadata": {},
   "outputs": [],
   "source": [
    "churn_counts = df[\"Churn\"].value_counts().reset_index()\n",
    "churn_counts.columns = [\"Churn\", \"Count\"]\n",
    "plt.figure(figsize=(5,4))\n",
    "sns.barplot(x=\"Churn\", y=\"Count\", palette=[\"blue\", \"red\"], hue=\"Churn\", data=churn_counts, legend=False)\n",
    "plt.xticks(ticks=[0,1], label=[\"Active (0)\", \"Churned (1)\"])\n",
    "plt.xlabel(\"Churn Status\")\n",
    "plt.ylabel(\"Number of Customers\")\n",
    "plt.title(\"Churn Distribution\")\n",
    "plt.savefig(\"number_of_customers_vs_churn_distribution.png\", dpi=300, bbox_inches=\"tight\") # Saves as PNG with high resolution\n",
    "plt.show()"
   ]
  },
  {
   "cell_type": "code",
   "execution_count": null,
   "id": "6f779f69-1250-4d74-b27f-d6349137226e",
   "metadata": {},
   "outputs": [],
   "source": [
    "plt.figure(figsize=(8,5))\n",
    "sns.barplot(x=df[\"Churn\"], y=df[\"MonthlySpending\"], palette=[\"blue\", \"red\"] ,hue=df[\"Churn\"], legend=False)\n",
    "plt.xticks(ticks=[0, 1], label=[\"Active (0)\", \"Churned (1)\"])\n",
    "plt.xlabel(\"Churn Status\")\n",
    "plt.ylabel(\"Monthly Spending ($)\")\n",
    "plt.title(\"Monthly Spending Distribution by Churn\")\n",
    "plt.savefig(\"churn_status_vs_monthly_spending.png\", dpi=300, bbox_inches=\"tight\") # Saves as PNG with high resolution\n",
    "plt.show()"
   ]
  },
  {
   "cell_type": "code",
   "execution_count": null,
   "id": "dd9e67e4-05a8-418a-8269-06f01d7ce5f1",
   "metadata": {},
   "outputs": [],
   "source": [
    "plt.figure(figsize=(8,5))\n",
    "sns.barplot(x=df[\"Churn\"], y=df[\"SubscriptionLength\"], palette=[\"blue\", \"red\"] ,hue=df[\"Churn\"], legend=False)\n",
    "plt.xticks(ticks=[0, 1], label=[\"Active (0)\", \"Churned (1)\"])\n",
    "plt.xlabel(\"Churn Status\")\n",
    "plt.ylabel(\"SubscriptionLength (Monthly)\")\n",
    "plt.title(\"Subscription Length Distribution by Churn\")\n",
    "plt.savefig(\"churn_status_vs_subscripiton_length.png\", dpi=300, bbox_inches=\"tight\") # Saves as PNG with high resolution\n",
    "plt.show()"
   ]
  },
  {
   "cell_type": "code",
   "execution_count": null,
   "id": "99c06af1-82e7-4a36-8923-85fe5895e46a",
   "metadata": {},
   "outputs": [],
   "source": [
    "plt.figure(figsize=(8,5))\n",
    "sns.countplot(x=df[\"ContractType\"], palette=[\"blue\", \"red\"] ,hue=df[\"Churn\"])\n",
    "plt.xlabel(\"ContractType\")\n",
    "plt.ylabel(\"Number of Customers\")\n",
    "plt.title(\"Churn Count by Contract Type\")\n",
    "plt.legend([\"Active (0)\", \"Churned (1)\"])\n",
    "plt.savefig(\"contract_type_vs_number_of_customers.png\", dpi=300, bbox_inches=\"tight\") # Saves as PNG with high resolution\n",
    "plt.show()"
   ]
  },
  {
   "cell_type": "code",
   "execution_count": null,
   "id": "78c94d97-6362-435c-9e2b-d4f9e178764f",
   "metadata": {},
   "outputs": [],
   "source": [
    "plt.figure(figsize=(8,5))\n",
    "sns.countplot(x=df[\"HasPremiumSupport\"], palette=[\"blue\", \"red\"] ,hue=df[\"Churn\"])\n",
    "plt.xlabel(\"Premium Support\")\n",
    "plt.ylabel(\"Number of Customers\")\n",
    "plt.title(\"Churn Count by Premium Support Status\")\n",
    "plt.legend([\"Active (0)\", \"Churned (1)\"])\n",
    "plt.savefig(\"premium_support_vs_number_of_customers.png\", dpi=300, bbox_inches=\"tight\") # Saves as PNG with high resolution\n",
    "plt.show()"
   ]
  }
 ],
 "metadata": {
  "kernelspec": {
   "display_name": "Python [conda env:base] *",
   "language": "python",
   "name": "conda-base-py"
  },
  "language_info": {
   "codemirror_mode": {
    "name": "ipython",
    "version": 3
   },
   "file_extension": ".py",
   "mimetype": "text/x-python",
   "name": "python",
   "nbconvert_exporter": "python",
   "pygments_lexer": "ipython3",
   "version": "3.12.7"
  }
 },
 "nbformat": 4,
 "nbformat_minor": 5
}
